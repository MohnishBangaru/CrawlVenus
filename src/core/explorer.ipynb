{
 "cells": [
  {
   "cell_type": "code",
   "execution_count": null,
   "id": "bef225b4",
   "metadata": {},
   "outputs": [],
   "source": [
    "\"\"\"Explorer: thin alias module.\n",
    "\n",
    "This module provides the *Explorer* class by re-exporting the existing\n",
    "``DroidBotGPT`` implementation.  It lets us migrate imports from\n",
    "``core.explorer_gpt`` to ``core.explorer`` without touching the 1,000-line\n",
    "implementation file yet.  A full class rename can follow later if desired.\n",
    "\"\"\""
   ]
  },
  {
   "cell_type": "code",
   "execution_count": null,
   "id": "7ecd693e",
   "metadata": {},
   "outputs": [],
   "source": [
    "from __future__ import annotations"
   ]
  },
  {
   "cell_type": "code",
   "execution_count": null,
   "id": "1c3ef610",
   "metadata": {},
   "outputs": [],
   "source": [
    "from .explorer_gpt import DroidBotGPT as Explorer  # noqa: F401"
   ]
  },
  {
   "cell_type": "code",
   "execution_count": null,
   "id": "ae104645",
   "metadata": {},
   "outputs": [],
   "source": [
    "__all__: list[str] = [\"Explorer\"] "
   ]
  }
 ],
 "metadata": {
  "jupytext": {
   "cell_metadata_filter": "-all",
   "formats": "ipynb,py:percent",
   "main_language": "python"
  }
 },
 "nbformat": 4,
 "nbformat_minor": 5
}
