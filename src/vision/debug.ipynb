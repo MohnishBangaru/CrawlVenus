{
 "cells": [
  {
   "cell_type": "code",
   "execution_count": null,
   "id": "8af51f44",
   "metadata": {},
   "outputs": [],
   "source": [
    "\"\"\"Vision debugging helpers: draw bounding boxes onto screenshots.\"\"\""
   ]
  },
  {
   "cell_type": "code",
   "execution_count": null,
   "id": "25c892b6",
   "metadata": {},
   "outputs": [],
   "source": [
    "from __future__ import annotations"
   ]
  },
  {
   "cell_type": "code",
   "execution_count": null,
   "id": "47c5a09a",
   "metadata": {},
   "outputs": [],
   "source": [
    "import os"
   ]
  },
  {
   "cell_type": "code",
   "execution_count": null,
   "id": "0796c85e",
   "metadata": {},
   "outputs": [],
   "source": [
    "import cv2  # type: ignore"
   ]
  },
  {
   "cell_type": "code",
   "execution_count": null,
   "id": "877fbb24",
   "metadata": {},
   "outputs": [],
   "source": [
    "from ..core.config import config\n",
    "from .models import UIElement"
   ]
  },
  {
   "cell_type": "code",
   "execution_count": null,
   "id": "cc27c6be",
   "metadata": {},
   "outputs": [],
   "source": [
    "def save_debug_overlay(image_path: str, elements: list[UIElement]) -> None:\n",
    "    \"\"\"Draw bounding boxes on image and save under vision_debug directory.\"\"\"\n",
    "    if not config.save_vision_debug:\n",
    "        return\n",
    "\n",
    "    img = cv2.imread(image_path)\n",
    "    if img is None:\n",
    "        return\n",
    "\n",
    "    for el in elements:\n",
    "        color = (0, 0, 255)  # Red in BGR\n",
    "        x1, y1, x2, y2 = el.bbox.as_tuple()\n",
    "\n",
    "        # Draw thicker rectangle for better visibility\n",
    "        cv2.rectangle(img, (x1, y1), (x2, y2), color, thickness=3)\n",
    "\n",
    "        # Prepare text label\n",
    "        label = f\"{el.text}:{el.confidence:.2f}\"\n",
    "        font_scale = 0.5\n",
    "        font = cv2.FONT_HERSHEY_SIMPLEX\n",
    "        (text_w, text_h), _ = cv2.getTextSize(label, font, font_scale, 1)\n",
    "\n",
    "        # Background rectangle (white) behind text for legibility\n",
    "        text_bg_tl = (x1, max(0, y1 - text_h - 4))\n",
    "        text_bg_br = (x1 + text_w + 4, max(0, y1))\n",
    "        cv2.rectangle(img, text_bg_tl, text_bg_br, (255, 255, 255), thickness=cv2.FILLED)\n",
    "\n",
    "        # Put red text on top\n",
    "        text_org = (x1 + 2, max(10, y1 - 2))\n",
    "        cv2.putText(\n",
    "            img,\n",
    "            label,\n",
    "            text_org,\n",
    "            font,\n",
    "            font_scale,\n",
    "            color,\n",
    "            thickness=1,\n",
    "            lineType=cv2.LINE_AA,\n",
    "        )\n",
    "\n",
    "    from pathlib import Path\n",
    "    debug_dir = Path(image_path).resolve().parent.parent / config.ocr_images_dir\n",
    "    debug_dir.mkdir(parents=True, exist_ok=True)\n",
    "    base = Path(image_path).name.replace(\".png\", \"_debug.png\")\n",
    "    cv2.imwrite(str(debug_dir / base), img) "
   ]
  }
 ],
 "metadata": {
  "jupytext": {
   "cell_metadata_filter": "-all",
   "formats": "ipynb,py:percent",
   "main_language": "python"
  }
 },
 "nbformat": 4,
 "nbformat_minor": 5
}
