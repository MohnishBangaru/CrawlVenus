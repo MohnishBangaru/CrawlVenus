{
 "cells": [
  {
   "cell_type": "code",
   "execution_count": null,
   "id": "02b403c3",
   "metadata": {},
   "outputs": [],
   "source": [
    "\"\"\"Computer vision utilities for DroidBot-GPT.\n",
    "\n",
    "This sub-package provides screenshot analysis, UI element detection, and OCR\n",
    "capabilities used to turn raw screenshots into structured device state.\n",
    "\"\"\""
   ]
  },
  {
   "cell_type": "code",
   "execution_count": null,
   "id": "bb433b5f",
   "metadata": {},
   "outputs": [],
   "source": [
    "from .engine import VisionEngine\n",
    "from .models import BoundingBox, UIElement"
   ]
  },
  {
   "cell_type": "code",
   "execution_count": null,
   "id": "c7ebc912",
   "metadata": {},
   "outputs": [],
   "source": [
    "__all__ = [\n",
    "    \"BoundingBox\",\n",
    "    \"UIElement\",\n",
    "    \"VisionEngine\",\n",
    "] "
   ]
  }
 ],
 "metadata": {
  "jupytext": {
   "cell_metadata_filter": "-all",
   "formats": "ipynb,py:percent",
   "main_language": "python"
  }
 },
 "nbformat": 4,
 "nbformat_minor": 5
}
