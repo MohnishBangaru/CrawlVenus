{
 "cells": [
  {
   "cell_type": "code",
   "execution_count": null,
   "id": "79bec539",
   "metadata": {},
   "outputs": [],
   "source": [
    "\"\"\"Data models for computer vision subsystem.\"\"\""
   ]
  },
  {
   "cell_type": "code",
   "execution_count": null,
   "id": "f262524a",
   "metadata": {},
   "outputs": [],
   "source": [
    "from __future__ import annotations"
   ]
  },
  {
   "cell_type": "code",
   "execution_count": null,
   "id": "7f2bb7d3",
   "metadata": {},
   "outputs": [],
   "source": [
    "from dataclasses import dataclass"
   ]
  },
  {
   "cell_type": "code",
   "execution_count": null,
   "id": "ad7d1ea6",
   "metadata": {},
   "outputs": [],
   "source": [
    "@dataclass(slots=True)\n",
    "class BoundingBox:\n",
    "    \"\"\"Axis-aligned rectangle (left, top, right, bottom) in pixel coordinates.\"\"\"\n",
    "\n",
    "    left: int\n",
    "    top: int\n",
    "    right: int\n",
    "    bottom: int\n",
    "\n",
    "    def width(self) -> int:\n",
    "        \"\"\"Width in pixels.\"\"\"\n",
    "        return self.right - self.left\n",
    "\n",
    "    def height(self) -> int:\n",
    "        \"\"\"Height in pixels.\"\"\"\n",
    "        return self.bottom - self.top\n",
    "\n",
    "    def as_tuple(self) -> tuple[int, int, int, int]:\n",
    "        \"\"\"Return bounding box as ``(left, top, right, bottom)`` tuple.\"\"\"\n",
    "        return self.left, self.top, self.right, self.bottom"
   ]
  },
  {
   "cell_type": "code",
   "execution_count": null,
   "id": "a6ab9a32",
   "metadata": {},
   "outputs": [],
   "source": [
    "@dataclass(slots=True)\n",
    "class UIElement:\n",
    "    \"\"\"Representation of a detected UI element on screen.\"\"\"\n",
    "\n",
    "    bbox: BoundingBox\n",
    "    text: str\n",
    "    confidence: float\n",
    "    element_type: str = \"text\"  # could be button, label, etc. "
   ]
  }
 ],
 "metadata": {
  "jupytext": {
   "cell_metadata_filter": "-all",
   "formats": "ipynb,py:percent",
   "main_language": "python"
  }
 },
 "nbformat": 4,
 "nbformat_minor": 5
}
