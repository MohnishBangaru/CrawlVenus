{
 "cells": [
  {
   "cell_type": "code",
   "execution_count": null,
   "id": "b806e683",
   "metadata": {},
   "outputs": [],
   "source": [
    "\"\"\"Fast screenshot capture utilities.\n",
    "\n",
    "This module provides a \"fast path\" screenshot capture implementation\n",
    "using ``adb exec-out screencap`` which is **much faster** than the legacy\n",
    "``adb shell screencap && adb pull`` approach.\n",
    "\n",
    "It falls back gracefully if ``exec-out`` is not supported. In the future we\n",
    "can extend this module to support **minicap** or **scrcpy** for streaming\n",
    "screenshots, but the current implementation already provides a ~2-3x speed\n",
    "improvement and is compatible with modern Android API levels (API 24+).\n",
    "\"\"\""
   ]
  },
  {
   "cell_type": "code",
   "execution_count": null,
   "id": "6062efa7",
   "metadata": {},
   "outputs": [],
   "source": [
    "from __future__ import annotations"
   ]
  },
  {
   "cell_type": "code",
   "execution_count": null,
   "id": "4e2ac752",
   "metadata": {},
   "outputs": [],
   "source": [
    "import os\n",
    "import shutil\n",
    "import subprocess\n",
    "from pathlib import Path"
   ]
  },
  {
   "cell_type": "code",
   "execution_count": null,
   "id": "c7efe9b1",
   "metadata": {},
   "outputs": [],
   "source": [
    "from Explorer.device import ADBError, Device"
   ]
  },
  {
   "cell_type": "code",
   "execution_count": null,
   "id": "179a11cc",
   "metadata": {},
   "outputs": [],
   "source": [
    "from ..core.logger import log"
   ]
  },
  {
   "cell_type": "code",
   "execution_count": null,
   "id": "b17d5019",
   "metadata": {},
   "outputs": [],
   "source": [
    "def _save_bytes_to_file(data: bytes, path: str) -> None:\n",
    "    \"\"\"Write bytes to *path*, creating parent directories if necessary.\"\"\"\n",
    "    Path(os.path.dirname(path)).mkdir(parents=True, exist_ok=True)\n",
    "    with open(path, \"wb\") as f:\n",
    "        f.write(data)"
   ]
  },
  {
   "cell_type": "code",
   "execution_count": null,
   "id": "bceb89c7",
   "metadata": {},
   "outputs": [],
   "source": [
    "def capture_fast_screenshot(device: Device, save_path: str) -> bool:\n",
    "    \"\"\"Capture a screenshot using ``adb exec-out screencap -p``.\n",
    "\n",
    "    Args:\n",
    "        device: ``Device`` instance.\n",
    "        save_path: Local path to save PNG screenshot.\n",
    "\n",
    "    Returns:\n",
    "        True if screenshot saved successfully, False otherwise.\n",
    "\n",
    "    \"\"\"\n",
    "    try:\n",
    "        log.debug(\"Capturing screenshot via exec-out ...\")\n",
    "\n",
    "        adb_path = shutil.which(\"adb\") or \"adb\"\n",
    "        cmd = [\n",
    "            adb_path,\n",
    "            \"-s\",\n",
    "            device.serial,\n",
    "            \"exec-out\",\n",
    "            \"screencap\",\n",
    "            \"-p\",\n",
    "        ]\n",
    "\n",
    "        png_bytes: bytes = subprocess.check_output(cmd, stderr=subprocess.DEVNULL)  # noqa: S603\n",
    "        # Older devices may return Windows line endings; normalize them\n",
    "        if png_bytes.startswith(b\"\\x89PNG\"):\n",
    "            # Already valid PNG\n",
    "            pass\n",
    "        else:\n",
    "            # Remove carriage returns if present\n",
    "            png_bytes = png_bytes.replace(b\"\\r\\n\", b\"\\n\")\n",
    "        _save_bytes_to_file(png_bytes, save_path)\n",
    "        return True\n",
    "    except subprocess.CalledProcessError as exc:\n",
    "        log.warning(\n",
    "            f\"exec-out screencap failed (returncode={exc.returncode}). \"\n",
    "            \"Falling back to pull method.\"\n",
    "        )\n",
    "        return False\n",
    "    except Exception as e:  # pragma: no cover\n",
    "        log.error(f\"Fast screenshot capture failed: {e}\")\n",
    "        return False"
   ]
  },
  {
   "cell_type": "markdown",
   "id": "f300bffd",
   "metadata": {},
   "source": [
    "---------------------------------------------------------------------------\n",
    "Public helper\n",
    "---------------------------------------------------------------------------"
   ]
  },
  {
   "cell_type": "code",
   "execution_count": null,
   "id": "7c91cccc",
   "metadata": {},
   "outputs": [],
   "source": [
    "def capture_screenshot(device: Device, save_path: str, *, force_pull: bool = False) -> str:\n",
    "    \"\"\"Capture a screenshot, using fast method if possible.\n",
    "\n",
    "    This function attempts the fast `exec-out` screencap first; if it fails or\n",
    "    ``force_pull`` is True, it falls back to the legacy pull implementation\n",
    "    used previously in ``DeviceManager``.\n",
    "    \"\"\"\n",
    "    if not force_pull and capture_fast_screenshot(device, save_path):\n",
    "        return save_path\n",
    "\n",
    "    # Fallback - legacy pull\n",
    "    try:\n",
    "        device.shell(\"screencap -p /sdcard/screenshot.png\")\n",
    "        device.pull(\"/sdcard/screenshot.png\", save_path)\n",
    "        device.shell(\"rm /sdcard/screenshot.png\")\n",
    "        return save_path\n",
    "    except Exception as e:\n",
    "        log.error(f\"Legacy screenshot fallback failed: {e}\")\n",
    "        raise ADBError(\"Screenshot capture failed\") from e "
   ]
  }
 ],
 "metadata": {
  "jupytext": {
   "cell_metadata_filter": "-all",
   "formats": "ipynb,py:percent",
   "main_language": "python"
  }
 },
 "nbformat": 4,
 "nbformat_minor": 5
}
