{
 "cells": [
  {
   "cell_type": "code",
   "execution_count": null,
   "id": "a5bb0533",
   "metadata": {},
   "outputs": [],
   "source": [
    "MOCK_DATA = {\n",
    "    \"name\": \"TestUser\",\n",
    "    \"first name\": \"TestUser\",\n",
    "    \"full name\": \"TestUser\",\n",
    "    \"username\": \"TestUser\",\n",
    "    \"mobile\": \"9999999999\",\n",
    "    \"phone\": \"9999999999\",\n",
    "    \"telephone\": \"9999999999\",\n",
    "    \"location\": \"Bangalore\",\n",
    "    \"city\": \"Bangalore\",\n",
    "    \"place\": \"Bangalore\",\n",
    "    \"password\": \"Pass@123\",\n",
    "    \"passcode\": \"Pass@123\",\n",
    "    \"email\": \"test@example.com\"\n",
    "}"
   ]
  },
  {
   "cell_type": "code",
   "execution_count": null,
   "id": "555c0d1f",
   "metadata": {},
   "outputs": [],
   "source": [
    "def get_mock_for(label: str) -> str:\n",
    "    \"\"\"Return mock value matching the semantic *label* of a text field.\n",
    "\n",
    "    Parameters\n",
    "    ----------\n",
    "    label : str\n",
    "        OCR-detected label/placeholder associated with an input field.\n",
    "    \"\"\"\n",
    "    key = label.lower()\n",
    "    for k, v in MOCK_DATA.items():\n",
    "        if k in key:\n",
    "            return v\n",
    "    return \"test\""
   ]
  },
  {
   "cell_type": "code",
   "execution_count": null,
   "id": "bff3e0bb",
   "metadata": {},
   "outputs": [],
   "source": [
    "def autofill_if_keyboard_visible(is_keyboard_visible_func) -> None:  # pragma: no cover\n",
    "    \"\"\"Convenience helper. If the soft-keyboard is open, insert a suitable mock value.\n",
    "\n",
    "    Pass the Vision/ADB utility `is_keyboard_visible` so this module stays framework-agnostic.\n",
    "    \"\"\"\n",
    "    import subprocess, random, time\n",
    "    # Debounce: fill only once per keyboard visibility session\n",
    "    if not is_keyboard_visible_func():\n",
    "        # Reset flag when keyboard hidden\n",
    "        autofill_if_keyboard_visible._filled = False  # type: ignore\n",
    "        return\n",
    "\n",
    "    if getattr(autofill_if_keyboard_visible, \"_filled\", False):  # type: ignore\n",
    "        # Extra guard: avoid rapid re-fill if keyboard visibility flickers\n",
    "        import time\n",
    "        last_ts = getattr(autofill_if_keyboard_visible, \"_last_ts\", 0)  # type: ignore\n",
    "        if time.time() - last_ts < 3:  # 3-second quiet window\n",
    "            return\n",
    "\n",
    "    # Cycle through deterministic but varied keys for successive fills\n",
    "    order = [\"name\", \"mobile\", \"email\", \"location\", \"password\"]\n",
    "    autofill_if_keyboard_visible._idx = getattr(autofill_if_keyboard_visible, \"_idx\", 0) + 1  # type: ignore\n",
    "    label = order[autofill_if_keyboard_visible._idx % len(order)]\n",
    "    value = MOCK_DATA[label]\n",
    "\n",
    "    escaped = value.replace(\" \", \"%s\")\n",
    "    subprocess.run([\"adb\", \"shell\", \"input\", \"text\", escaped], capture_output=True, check=False)\n",
    "    time.sleep(0.2)\n",
    "\n",
    "    # record time\n",
    "    import time as _t\n",
    "    autofill_if_keyboard_visible._last_ts = _t.time()  # type: ignore\n",
    "\n",
    "    # mark filled\n",
    "    autofill_if_keyboard_visible._filled = True  # type: ignore"
   ]
  },
  {
   "cell_type": "markdown",
   "id": "9d103f57",
   "metadata": {
    "lines_to_next_cell": 2
   },
   "source": [
    "------------------\n",
    "Background watcher to call autofill periodically without explicit tester hook\n",
    "------------------"
   ]
  },
  {
   "cell_type": "code",
   "execution_count": null,
   "id": "0f77f9e5",
   "metadata": {},
   "outputs": [],
   "source": [
    "def _is_keyboard_visible() -> bool:\n",
    "    \"\"\"Return True if soft keyboard currently shown (uses adb dumpsys).\"\"\"\n",
    "    result = subprocess.run([\n",
    "        \"adb\",\n",
    "        \"shell\",\n",
    "        \"dumpsys\",\n",
    "        \"input_method\"\n",
    "    ], capture_output=True, text=True, check=False)\n",
    "    return (\"mInputShown=true\" in result.stdout) or (\"mIsInputViewShown=true\" in result.stdout)"
   ]
  },
  {
   "cell_type": "code",
   "execution_count": null,
   "id": "038859a6",
   "metadata": {},
   "outputs": [],
   "source": [
    "def _watcher() -> None:  # pragma: no cover\n",
    "    while True:\n",
    "        try:\n",
    "            autofill_if_keyboard_visible(_is_keyboard_visible)\n",
    "        except Exception:\n",
    "            pass\n",
    "        time.sleep(0.7)"
   ]
  },
  {
   "cell_type": "code",
   "execution_count": null,
   "id": "ef5e87ce",
   "metadata": {},
   "outputs": [],
   "source": [
    "# start watcher thread once on import\n",
    "import threading as _th"
   ]
  },
  {
   "cell_type": "code",
   "execution_count": null,
   "id": "3b7d961e",
   "metadata": {},
   "outputs": [],
   "source": [
    "_t = _th.Thread(target=_watcher, daemon=True)\n",
    "_t.start() "
   ]
  }
 ],
 "metadata": {
  "jupytext": {
   "cell_metadata_filter": "-all",
   "formats": "ipynb,py:percent",
   "main_language": "python"
  }
 },
 "nbformat": 4,
 "nbformat_minor": 5
}
