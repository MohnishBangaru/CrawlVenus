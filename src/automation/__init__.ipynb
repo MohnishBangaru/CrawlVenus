{
 "cells": [
  {
   "cell_type": "code",
   "execution_count": null,
   "id": "88343d61",
   "metadata": {},
   "outputs": [],
   "source": [
    "\"\"\"Android automation logic and task execution engine.\n",
    "\n",
    "This sub-package provides the core automation capabilities including:\n",
    "- Task planning and execution\n",
    "- Action sequence management\n",
    "- State tracking and validation\n",
    "- Error recovery and retry logic\n",
    "\"\"\""
   ]
  },
  {
   "cell_type": "code",
   "execution_count": null,
   "id": "edcf3e32",
   "metadata": {},
   "outputs": [],
   "source": [
    "from .action_executor import ActionExecutor\n",
    "from .task_planner import TaskPlanner\n",
    "from .state_tracker import StateTracker\n",
    "from .error_handler import ErrorHandler"
   ]
  },
  {
   "cell_type": "code",
   "execution_count": null,
   "id": "e8c796f7",
   "metadata": {},
   "outputs": [],
   "source": [
    "__all__ = [\n",
    "    \"ActionExecutor\",\n",
    "    \"TaskPlanner\", \n",
    "    \"StateTracker\",\n",
    "    \"ErrorHandler\",\n",
    "] "
   ]
  }
 ],
 "metadata": {
  "jupytext": {
   "cell_metadata_filter": "-all",
   "formats": "ipynb,py:percent",
   "main_language": "python"
  }
 },
 "nbformat": 4,
 "nbformat_minor": 5
}
