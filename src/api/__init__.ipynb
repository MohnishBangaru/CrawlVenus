{
 "cells": [
  {
   "cell_type": "code",
   "execution_count": null,
   "id": "0be26c6e",
   "metadata": {},
   "outputs": [],
   "source": [
    "\"\"\"FastAPI endpoints for DroidBot-GPT framework.\n",
    "\n",
    "This sub-package provides REST API endpoints for:\n",
    "- Device management and control\n",
    "- Automation task execution\n",
    "- Status monitoring and reporting\n",
    "- Configuration management\n",
    "\"\"\""
   ]
  },
  {
   "cell_type": "code",
   "execution_count": null,
   "id": "5f600520",
   "metadata": {},
   "outputs": [],
   "source": [
    "from .app import create_app\n",
    "from .routes import automation_router, device_router, status_router"
   ]
  },
  {
   "cell_type": "code",
   "execution_count": null,
   "id": "e5f1829d",
   "metadata": {},
   "outputs": [],
   "source": [
    "__all__ = [\n",
    "    \"create_app\",\n",
    "    \"automation_router\", \n",
    "    \"device_router\",\n",
    "    \"status_router\",\n",
    "] "
   ]
  }
 ],
 "metadata": {
  "jupytext": {
   "cell_metadata_filter": "-all",
   "formats": "ipynb,py:percent",
   "main_language": "python"
  }
 },
 "nbformat": 4,
 "nbformat_minor": 5
}
