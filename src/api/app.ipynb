{
 "cells": [
  {
   "cell_type": "code",
   "execution_count": null,
   "id": "296d2e0a",
   "metadata": {},
   "outputs": [],
   "source": [
    "\"\"\"FastAPI application factory for DroidBot-GPT framework.\"\"\""
   ]
  },
  {
   "cell_type": "code",
   "execution_count": null,
   "id": "51c403fc",
   "metadata": {},
   "outputs": [],
   "source": [
    "from __future__ import annotations"
   ]
  },
  {
   "cell_type": "code",
   "execution_count": null,
   "id": "9caf868b",
   "metadata": {},
   "outputs": [],
   "source": [
    "from fastapi import FastAPI\n",
    "from fastapi.middleware.cors import CORSMiddleware"
   ]
  },
  {
   "cell_type": "code",
   "execution_count": null,
   "id": "55c59b7f",
   "metadata": {},
   "outputs": [],
   "source": [
    "from ..core.config import config\n",
    "from ..core.logger import log\n",
    "from .routes import automation_router, device_router, status_router"
   ]
  },
  {
   "cell_type": "code",
   "execution_count": null,
   "id": "6cb405d4",
   "metadata": {},
   "outputs": [],
   "source": [
    "def create_app() -> FastAPI:\n",
    "    \"\"\"Create and configure the FastAPI application.\n",
    "    \n",
    "    Returns:\n",
    "        Configured FastAPI application instance.\n",
    "    \"\"\"\n",
    "    app = FastAPI(\n",
    "        title=\"DroidBot-GPT API\",\n",
    "        description=\"Intelligent Android automation framework API\",\n",
    "        version=\"1.0.0\",\n",
    "        docs_url=\"/docs\",\n",
    "        redoc_url=\"/redoc\"\n",
    "    )\n",
    "    \n",
    "    # Configure CORS\n",
    "    app.add_middleware(\n",
    "        CORSMiddleware,\n",
    "        allow_origins=config.cors_origins,\n",
    "        allow_credentials=True,\n",
    "        allow_methods=[\"*\"],\n",
    "        allow_headers=[\"*\"],\n",
    "    )\n",
    "    \n",
    "    # Add request logging middleware\n",
    "    @app.middleware(\"http\")\n",
    "    async def log_requests(request, call_next):\n",
    "        log.info(f\"API Request: {request.method} {request.url}\")\n",
    "        response = await call_next(request)\n",
    "        log.info(f\"API Response: {response.status_code}\")\n",
    "        return response\n",
    "    \n",
    "    # Include routers\n",
    "    app.include_router(device_router, prefix=\"/api/v1/device\", tags=[\"device\"])\n",
    "    app.include_router(automation_router, prefix=\"/api/v1/automation\", tags=[\"automation\"])\n",
    "    app.include_router(status_router, prefix=\"/api/v1/status\", tags=[\"status\"])\n",
    "    \n",
    "    # Health check endpoint\n",
    "    @app.get(\"/health\")\n",
    "    async def health_check():\n",
    "        \"\"\"Health check endpoint.\"\"\"\n",
    "        return {\n",
    "            \"status\": \"healthy\",\n",
    "            \"service\": \"DroidBot-GPT API\",\n",
    "            \"version\": \"1.0.0\"\n",
    "        }\n",
    "    \n",
    "    # Root endpoint\n",
    "    @app.get(\"/\")\n",
    "    async def root():\n",
    "        \"\"\"Root endpoint with API information.\"\"\"\n",
    "        return {\n",
    "            \"message\": \"DroidBot-GPT API\",\n",
    "            \"version\": \"1.0.0\",\n",
    "            \"docs\": \"/docs\",\n",
    "            \"health\": \"/health\"\n",
    "        }\n",
    "    \n",
    "    log.info(\"FastAPI application created successfully\")\n",
    "    return app "
   ]
  }
 ],
 "metadata": {
  "jupytext": {
   "cell_metadata_filter": "-all",
   "formats": "ipynb,py:percent",
   "main_language": "python"
  }
 },
 "nbformat": 4,
 "nbformat_minor": 5
}
