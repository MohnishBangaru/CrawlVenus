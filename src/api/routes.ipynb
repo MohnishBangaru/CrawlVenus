{
 "cells": [
  {
   "cell_type": "code",
   "execution_count": null,
   "id": "65157957",
   "metadata": {},
   "outputs": [],
   "source": [
    "\"\"\"API route definitions for DroidBot-GPT framework.\"\"\""
   ]
  },
  {
   "cell_type": "code",
   "execution_count": null,
   "id": "edaabd63",
   "metadata": {},
   "outputs": [],
   "source": [
    "from __future__ import annotations"
   ]
  },
  {
   "cell_type": "code",
   "execution_count": null,
   "id": "9ca939d2",
   "metadata": {},
   "outputs": [],
   "source": [
    "from typing import Any, Dict, List, Optional"
   ]
  },
  {
   "cell_type": "code",
   "execution_count": null,
   "id": "81a4052b",
   "metadata": {},
   "outputs": [],
   "source": [
    "from fastapi import APIRouter, HTTPException\n",
    "from pydantic import BaseModel"
   ]
  },
  {
   "cell_type": "code",
   "execution_count": null,
   "id": "13f557c8",
   "metadata": {},
   "outputs": [],
   "source": [
    "from ..core.explorer import Explorer\n",
    "from ..core.logger import log"
   ]
  },
  {
   "cell_type": "code",
   "execution_count": null,
   "id": "0749b7fa",
   "metadata": {},
   "outputs": [],
   "source": [
    "# Create router instances\n",
    "device_router = APIRouter()\n",
    "automation_router = APIRouter()\n",
    "status_router = APIRouter()"
   ]
  },
  {
   "cell_type": "code",
   "execution_count": null,
   "id": "b97d0da4",
   "metadata": {},
   "outputs": [],
   "source": [
    "# Global DroidBot-GPT instance\n",
    "droidbot_instance: Optional[Explorer] = None"
   ]
  },
  {
   "cell_type": "code",
   "execution_count": null,
   "id": "73bb6b18",
   "metadata": {},
   "outputs": [],
   "source": [
    "def get_droidbot() -> Explorer:\n",
    "    \"\"\"Get or create the global DroidBot-GPT instance.\"\"\"\n",
    "    global droidbot_instance\n",
    "    if droidbot_instance is None:\n",
    "        droidbot_instance = Explorer()\n",
    "    return droidbot_instance"
   ]
  },
  {
   "cell_type": "code",
   "execution_count": null,
   "id": "cd7531b9",
   "metadata": {},
   "outputs": [],
   "source": [
    "# Pydantic models for request/response\n",
    "class TaskRequest(BaseModel):\n",
    "    \"\"\"Request model for automation tasks.\"\"\"\n",
    "    description: str\n",
    "    max_steps: int = 50"
   ]
  },
  {
   "cell_type": "code",
   "execution_count": null,
   "id": "7828f44e",
   "metadata": {},
   "outputs": [],
   "source": [
    "class ActionRequest(BaseModel):\n",
    "    \"\"\"Request model for individual actions.\"\"\"\n",
    "    action_type: str\n",
    "    parameters: Dict[str, Any]"
   ]
  },
  {
   "cell_type": "code",
   "execution_count": null,
   "id": "659a248f",
   "metadata": {},
   "outputs": [],
   "source": [
    "class DeviceConnectRequest(BaseModel):\n",
    "    \"\"\"Request model for device connection.\"\"\"\n",
    "    device_serial: Optional[str] = None"
   ]
  },
  {
   "cell_type": "code",
   "execution_count": null,
   "id": "72b54815",
   "metadata": {},
   "outputs": [],
   "source": [
    "class TaskResponse(BaseModel):\n",
    "    \"\"\"Response model for task execution.\"\"\"\n",
    "    task_id: str\n",
    "    status: str\n",
    "    duration: float\n",
    "    steps: int\n",
    "    result: Dict[str, Any]"
   ]
  },
  {
   "cell_type": "code",
   "execution_count": null,
   "id": "095f2ffc",
   "metadata": {},
   "outputs": [],
   "source": [
    "class DeviceInfoResponse(BaseModel):\n",
    "    \"\"\"Response model for device information.\"\"\"\n",
    "    connected: bool\n",
    "    device_info: Optional[Dict[str, Any]] = None\n",
    "    error: Optional[str] = None"
   ]
  },
  {
   "cell_type": "code",
   "execution_count": null,
   "id": "55fa1dfd",
   "metadata": {
    "lines_to_next_cell": 2
   },
   "outputs": [],
   "source": [
    "# Device management routes\n",
    "@device_router.post(\"/connect\", response_model=DeviceInfoResponse)\n",
    "async def connect_device(request: DeviceConnectRequest):\n",
    "    \"\"\"Connect to an Android device or emulator.\"\"\"\n",
    "    try:\n",
    "        droidbot = get_droidbot()\n",
    "        success = await droidbot.connect_device(request.device_serial)\n",
    "        \n",
    "        if success:\n",
    "            device_status = await droidbot.get_device_status()\n",
    "            return DeviceInfoResponse(\n",
    "                connected=True,\n",
    "                device_info=device_status.get('device_info')\n",
    "            )\n",
    "        else:\n",
    "            return DeviceInfoResponse(\n",
    "                connected=False,\n",
    "                error=\"Failed to connect to device\"\n",
    "            )\n",
    "            \n",
    "    except Exception as e:\n",
    "        log.error(f\"Device connection error: {e}\")\n",
    "        raise HTTPException(status_code=500, detail=str(e))"
   ]
  },
  {
   "cell_type": "code",
   "execution_count": null,
   "id": "44eefe05",
   "metadata": {
    "lines_to_next_cell": 2
   },
   "outputs": [],
   "source": [
    "@device_router.get(\"/status\", response_model=DeviceInfoResponse)\n",
    "async def get_device_status():\n",
    "    \"\"\"Get current device status.\"\"\"\n",
    "    try:\n",
    "        droidbot = get_droidbot()\n",
    "        device_status = await droidbot.get_device_status()\n",
    "        \n",
    "        return DeviceInfoResponse(\n",
    "            connected=device_status.get('connected', False),\n",
    "            device_info=device_status.get('device_info')\n",
    "        )\n",
    "        \n",
    "    except Exception as e:\n",
    "        log.error(f\"Device status error: {e}\")\n",
    "        raise HTTPException(status_code=500, detail=str(e))"
   ]
  },
  {
   "cell_type": "code",
   "execution_count": null,
   "id": "680f3ff8",
   "metadata": {
    "lines_to_next_cell": 2
   },
   "outputs": [],
   "source": [
    "@device_router.post(\"/disconnect\")\n",
    "async def disconnect_device():\n",
    "    \"\"\"Disconnect from the current device.\"\"\"\n",
    "    try:\n",
    "        droidbot = get_droidbot()\n",
    "        await droidbot.disconnect()\n",
    "        return {\"message\": \"Device disconnected successfully\"}\n",
    "        \n",
    "    except Exception as e:\n",
    "        log.error(f\"Device disconnection error: {e}\")\n",
    "        raise HTTPException(status_code=500, detail=str(e))"
   ]
  },
  {
   "cell_type": "code",
   "execution_count": null,
   "id": "1cb5e029",
   "metadata": {
    "lines_to_next_cell": 2
   },
   "outputs": [],
   "source": [
    "@device_router.post(\"/screenshot\")\n",
    "async def capture_screenshot():\n",
    "    \"\"\"Capture a screenshot from the device.\"\"\"\n",
    "    try:\n",
    "        droidbot = get_droidbot()\n",
    "        device_manager = droidbot.device_manager\n",
    "        \n",
    "        if not device_manager.is_connected():\n",
    "            raise HTTPException(status_code=400, detail=\"Device not connected\")\n",
    "            \n",
    "        screenshot_path = await device_manager.capture_screenshot()\n",
    "        \n",
    "        return {\n",
    "            \"screenshot_path\": screenshot_path,\n",
    "            \"message\": \"Screenshot captured successfully\"\n",
    "        }\n",
    "        \n",
    "    except Exception as e:\n",
    "        log.error(f\"Screenshot capture error: {e}\")\n",
    "        raise HTTPException(status_code=500, detail=str(e))"
   ]
  },
  {
   "cell_type": "code",
   "execution_count": null,
   "id": "5ff7901c",
   "metadata": {
    "lines_to_next_cell": 2
   },
   "outputs": [],
   "source": [
    "# Automation routes\n",
    "@automation_router.post(\"/task\", response_model=TaskResponse)\n",
    "async def execute_task(request: TaskRequest):\n",
    "    \"\"\"Execute an automation task.\"\"\"\n",
    "    try:\n",
    "        droidbot = get_droidbot()\n",
    "        \n",
    "        if not droidbot.device_manager.is_connected():\n",
    "            raise HTTPException(status_code=400, detail=\"Device not connected\")\n",
    "            \n",
    "        result = await droidbot.automate_task(\n",
    "            request.description,\n",
    "            request.max_steps\n",
    "        )\n",
    "        \n",
    "        return TaskResponse(\n",
    "            task_id=result.get('id', 'unknown'),\n",
    "            status=result.get('status', 'unknown'),\n",
    "            duration=result.get('duration', 0.0),\n",
    "            steps=result.get('total_steps', 0),\n",
    "            result=result\n",
    "        )\n",
    "        \n",
    "    except Exception as e:\n",
    "        log.error(f\"Task execution error: {e}\")\n",
    "        raise HTTPException(status_code=500, detail=str(e))"
   ]
  },
  {
   "cell_type": "code",
   "execution_count": null,
   "id": "19214b0f",
   "metadata": {
    "lines_to_next_cell": 2
   },
   "outputs": [],
   "source": [
    "@automation_router.get(\"/tasks\", response_model=List[Dict[str, Any]])\n",
    "async def get_task_history():\n",
    "    \"\"\"Get automation task history.\"\"\"\n",
    "    try:\n",
    "        droidbot = get_droidbot()\n",
    "        history = await droidbot.get_task_history()\n",
    "        return history\n",
    "        \n",
    "    except Exception as e:\n",
    "        log.error(f\"Task history error: {e}\")\n",
    "        raise HTTPException(status_code=500, detail=str(e))"
   ]
  },
  {
   "cell_type": "code",
   "execution_count": null,
   "id": "180c53e0",
   "metadata": {
    "lines_to_next_cell": 2
   },
   "outputs": [],
   "source": [
    "@automation_router.get(\"/current-task\")\n",
    "async def get_current_task():\n",
    "    \"\"\"Get information about the currently running task.\"\"\"\n",
    "    try:\n",
    "        droidbot = get_droidbot()\n",
    "        current_task = await droidbot.get_current_task()\n",
    "        return current_task\n",
    "        \n",
    "    except Exception as e:\n",
    "        log.error(f\"Current task error: {e}\")\n",
    "        raise HTTPException(status_code=500, detail=str(e))"
   ]
  },
  {
   "cell_type": "code",
   "execution_count": null,
   "id": "0a0f0195",
   "metadata": {
    "lines_to_next_cell": 2
   },
   "outputs": [],
   "source": [
    "@automation_router.post(\"/stop\")\n",
    "async def stop_automation():\n",
    "    \"\"\"Stop the currently running automation.\"\"\"\n",
    "    try:\n",
    "        droidbot = get_droidbot()\n",
    "        await droidbot.stop_automation()\n",
    "        return {\"message\": \"Automation stopped successfully\"}\n",
    "        \n",
    "    except Exception as e:\n",
    "        log.error(f\"Stop automation error: {e}\")\n",
    "        raise HTTPException(status_code=500, detail=str(e))"
   ]
  },
  {
   "cell_type": "code",
   "execution_count": null,
   "id": "5de82937",
   "metadata": {
    "lines_to_next_cell": 2
   },
   "outputs": [],
   "source": [
    "@automation_router.post(\"/action\")\n",
    "async def execute_action(request: ActionRequest):\n",
    "    \"\"\"Execute a single automation action.\"\"\"\n",
    "    try:\n",
    "        droidbot = get_droidbot()\n",
    "        \n",
    "        if not droidbot.device_manager.is_connected():\n",
    "            raise HTTPException(status_code=400, detail=\"Device not connected\")\n",
    "            \n",
    "        action = {\n",
    "            \"type\": request.action_type,\n",
    "            **request.parameters\n",
    "        }\n",
    "        \n",
    "        result = await droidbot.device_manager.perform_action(action)\n",
    "        \n",
    "        return {\n",
    "            \"success\": result,\n",
    "            \"action\": action,\n",
    "            \"message\": \"Action executed successfully\" if result else \"Action failed\"\n",
    "        }\n",
    "        \n",
    "    except Exception as e:\n",
    "        log.error(f\"Action execution error: {e}\")\n",
    "        raise HTTPException(status_code=500, detail=str(e))"
   ]
  },
  {
   "cell_type": "code",
   "execution_count": null,
   "id": "e39da553",
   "metadata": {
    "lines_to_next_cell": 2
   },
   "outputs": [],
   "source": [
    "# Status and monitoring routes\n",
    "@status_router.get(\"/overview\")\n",
    "async def get_system_overview():\n",
    "    \"\"\"Get system overview and status.\"\"\"\n",
    "    try:\n",
    "        droidbot = get_droidbot()\n",
    "        \n",
    "        # Get device status\n",
    "        device_status = await droidbot.get_device_status()\n",
    "        \n",
    "        # Get session info\n",
    "        session_info = droidbot.get_session_info()\n",
    "        \n",
    "        # Get task history\n",
    "        task_history = await droidbot.get_task_history()\n",
    "        \n",
    "        return {\n",
    "            \"device\": device_status,\n",
    "            \"session\": session_info,\n",
    "            \"tasks\": {\n",
    "                \"total\": len(task_history),\n",
    "                \"recent\": task_history[-5:] if task_history else []\n",
    "            },\n",
    "            \"system\": {\n",
    "                \"status\": \"running\",\n",
    "                \"version\": \"1.0.0\"\n",
    "            }\n",
    "        }\n",
    "        \n",
    "    except Exception as e:\n",
    "        log.error(f\"System overview error: {e}\")\n",
    "        raise HTTPException(status_code=500, detail=str(e))"
   ]
  },
  {
   "cell_type": "code",
   "execution_count": null,
   "id": "b8b28b5d",
   "metadata": {
    "lines_to_next_cell": 2
   },
   "outputs": [],
   "source": [
    "@status_router.get(\"/session\")\n",
    "async def get_session_info():\n",
    "    \"\"\"Get current session information.\"\"\"\n",
    "    try:\n",
    "        droidbot = get_droidbot()\n",
    "        session_info = droidbot.get_session_info()\n",
    "        return session_info\n",
    "        \n",
    "    except Exception as e:\n",
    "        log.error(f\"Session info error: {e}\")\n",
    "        raise HTTPException(status_code=500, detail=str(e))"
   ]
  },
  {
   "cell_type": "code",
   "execution_count": null,
   "id": "69f9a59f",
   "metadata": {},
   "outputs": [],
   "source": [
    "@status_router.get(\"/resources\")\n",
    "async def get_resource_usage():\n",
    "    \"\"\"Get current resource usage.\"\"\"\n",
    "    try:\n",
    "        droidbot = get_droidbot()\n",
    "        \n",
    "        if not droidbot.device_manager.is_connected():\n",
    "            raise HTTPException(status_code=400, detail=\"Device not connected\")\n",
    "            \n",
    "        resource_usage = await droidbot.device_manager.get_resource_usage()\n",
    "        return resource_usage\n",
    "        \n",
    "    except Exception as e:\n",
    "        log.error(f\"Resource usage error: {e}\")\n",
    "        raise HTTPException(status_code=500, detail=str(e)) "
   ]
  }
 ],
 "metadata": {
  "jupytext": {
   "cell_metadata_filter": "-all",
   "formats": "ipynb,py:percent",
   "main_language": "python"
  }
 },
 "nbformat": 4,
 "nbformat_minor": 5
}
