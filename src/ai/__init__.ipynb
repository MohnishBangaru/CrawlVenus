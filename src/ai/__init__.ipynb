{
 "cells": [
  {
   "cell_type": "code",
   "execution_count": null,
   "id": "6a2378fe",
   "metadata": {},
   "outputs": [],
   "source": [
    "\"\"\"AI utilities: prompt building, LLM client wrappers, and Phi Ground integration (phase-3).\"\"\""
   ]
  },
  {
   "cell_type": "code",
   "execution_count": null,
   "id": "527ccba7",
   "metadata": {},
   "outputs": [],
   "source": [
    "from .prompt_builder import build_messages, build_element_detection_prompt, build_context_analysis_prompt\n",
    "from .phi_ground import get_phi_ground_generator, PhiGroundActionGenerator"
   ]
  },
  {
   "cell_type": "code",
   "execution_count": null,
   "id": "ca0bbe1d",
   "metadata": {},
   "outputs": [],
   "source": [
    "__all__ = [\n",
    "    \"build_messages\", \n",
    "    \"build_element_detection_prompt\", \n",
    "    \"build_context_analysis_prompt\",\n",
    "    \"get_phi_ground_generator\",\n",
    "    \"PhiGroundActionGenerator\"\n",
    "] "
   ]
  }
 ],
 "metadata": {
  "jupytext": {
   "cell_metadata_filter": "-all",
   "formats": "ipynb,py:percent",
   "main_language": "python"
  }
 },
 "nbformat": 4,
 "nbformat_minor": 5
}
