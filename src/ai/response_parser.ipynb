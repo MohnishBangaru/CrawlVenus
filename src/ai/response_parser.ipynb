{
 "cells": [
  {
   "cell_type": "code",
   "execution_count": null,
   "id": "bbf1dc3f",
   "metadata": {},
   "outputs": [],
   "source": [
    "\"\"\"Parse and validate LLM critique response JSON.\"\"\""
   ]
  },
  {
   "cell_type": "code",
   "execution_count": null,
   "id": "8bc84c69",
   "metadata": {},
   "outputs": [],
   "source": [
    "import json\n",
    "import re\n",
    "from dataclasses import dataclass, field"
   ]
  },
  {
   "cell_type": "code",
   "execution_count": null,
   "id": "ef2747b8",
   "metadata": {},
   "outputs": [],
   "source": [
    "__all__ = [\"Critique\", \"parse_critique\"]"
   ]
  },
  {
   "cell_type": "code",
   "execution_count": null,
   "id": "8b893ea5",
   "metadata": {},
   "outputs": [],
   "source": [
    "_REQUIRED_KEYS = {\n",
    "    \"strengths\": list,\n",
    "    \"issues\": list,\n",
    "    \"uniqueness_vs_generic\": list,\n",
    "    \"summary_50_words\": str,\n",
    "}"
   ]
  },
  {
   "cell_type": "code",
   "execution_count": null,
   "id": "ea6fa0b3",
   "metadata": {},
   "outputs": [],
   "source": [
    "@dataclass\n",
    "class Critique:\n",
    "    \"\"\"Structured representation of an LLM critique response.\"\"\"\n",
    "\n",
    "    strengths: list[str] = field(default_factory=list)\n",
    "    issues: list[str] = field(default_factory=list)\n",
    "    uniqueness_vs_generic: list[str] = field(default_factory=list)\n",
    "    summary_50_words: str = \"\"\n",
    "    summary_word_count: int = 0\n",
    "    valid: bool = False\n",
    "    errors: list[str] = field(default_factory=list)"
   ]
  },
  {
   "cell_type": "code",
   "execution_count": null,
   "id": "746425e4",
   "metadata": {},
   "outputs": [],
   "source": [
    "_JSON_REGEX = re.compile(r\"\\{[\\s\\S]+\\}\")"
   ]
  },
  {
   "cell_type": "code",
   "execution_count": null,
   "id": "7f56c39d",
   "metadata": {},
   "outputs": [],
   "source": [
    "def _first_json_blob(text: str) -> str | None:\n",
    "    \"\"\"Return first JSON-looking {...} block from text.\"\"\"\n",
    "    match = _JSON_REGEX.search(text)\n",
    "    return match.group(0) if match else None"
   ]
  },
  {
   "cell_type": "code",
   "execution_count": null,
   "id": "55a2308d",
   "metadata": {},
   "outputs": [],
   "source": [
    "def _count_words(s: str) -> int:\n",
    "    return len(re.findall(r\"[A-Za-z0-9']+\", s))"
   ]
  },
  {
   "cell_type": "code",
   "execution_count": null,
   "id": "40aa7eed",
   "metadata": {},
   "outputs": [],
   "source": [
    "def parse_critique(raw: str) -> Critique:\n",
    "    \"\"\"Attempt to parse LLM critique JSON and validate summary word count.\"\"\"\n",
    "    result = Critique()\n",
    "\n",
    "    json_str = _first_json_blob(raw)\n",
    "    if not json_str:\n",
    "        result.errors.append(\"No JSON object found in response\")\n",
    "        return result\n",
    "\n",
    "    try:\n",
    "        data = json.loads(json_str)\n",
    "    except json.JSONDecodeError as exc:\n",
    "        result.errors.append(f\"JSON decode error: {exc}\")\n",
    "        return result\n",
    "\n",
    "    # Validate required keys & types\n",
    "    for key, expected_type in _REQUIRED_KEYS.items():\n",
    "        if key not in data:\n",
    "            result.errors.append(f\"Missing key: {key}\")\n",
    "            continue\n",
    "        if not isinstance(data[key], expected_type):\n",
    "            result.errors.append(f\"Key {key} expected {expected_type.__name__}\")\n",
    "\n",
    "    # Populate fields\n",
    "    result.strengths = data.get(\"strengths\", [])\n",
    "    result.issues = data.get(\"issues\", [])\n",
    "    result.uniqueness_vs_generic = data.get(\"uniqueness_vs_generic\", [])\n",
    "    result.summary_50_words = data.get(\"summary_50_words\", \"\")\n",
    "    result.summary_word_count = _count_words(result.summary_50_words)\n",
    "\n",
    "    if result.summary_word_count != 50:\n",
    "        result.errors.append(\n",
    "            f\"summary_50_words has {result.summary_word_count} words (expected 50)\"\n",
    "        )\n",
    "\n",
    "    result.valid = not result.errors\n",
    "    return result "
   ]
  }
 ],
 "metadata": {
  "jupytext": {
   "cell_metadata_filter": "-all",
   "formats": "ipynb,py:percent",
   "main_language": "python"
  }
 },
 "nbformat": 4,
 "nbformat_minor": 5
}
