{
 "cells": [
  {
   "cell_type": "markdown",
   "id": "8755afcb",
   "metadata": {},
   "source": [
    "DroidBot-GPT framework root package."
   ]
  },
  {
   "cell_type": "code",
   "execution_count": null,
   "id": "024f5ee8",
   "metadata": {},
   "outputs": [],
   "source": [
    "\n",
    "__version__ = \"0.1.0\"\n",
    "\n",
    "__all__ = [\n",
    "    \"__version__\",\n",
    "] "
   ]
  }
 ],
 "metadata": {
  "kernelspec": {
   "display_name": "Python 3",
   "language": "python",
   "name": "python3"
  },
  "language_info": {
   "codemirror_mode": {
    "name": "ipython",
    "version": 3
   },
   "file_extension": ".py",
   "mimetype": "text/x-python",
   "name": "python",
   "nbconvert_exporter": "python",
   "pygments_lexer": "ipython3",
   "version": "3.10.0"
  }
 },
 "nbformat": 4,
 "nbformat_minor": 5
}
