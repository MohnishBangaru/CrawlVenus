{
 "cells": [
  {
   "cell_type": "markdown",
   "id": "d8f7b058",
   "metadata": {},
   "source": [
    "Custom exception raised when an ADB-related error occurs."
   ]
  },
  {
   "cell_type": "markdown",
   "id": "11f8ad63",
   "metadata": {},
   "source": [
    "Lightweight wrapper around `adb` for interacting with a single Android device.\n",
    "\n",
    "    The design purposefully avoids heavy external dependencies by using Python's\n",
    "    built-in ``subprocess`` module, keeping the framework lean and easily\n",
    "    installable. Only a running ``adb`` binary (bundled with the Android SDK)\n",
    "    is required."
   ]
  },
  {
   "cell_type": "code",
   "execution_count": null,
   "id": "39396be0",
   "metadata": {},
   "outputs": [],
   "source": [
    "from __future__ import annotations\n",
    "\n",
    "import subprocess\n",
    "\n",
    "\n",
    "class ADBError(RuntimeError):\n",
    "\n",
    "\n",
    "class Device:\n",
    "\n",
    "    def __init__(self, serial: str):\n",
    "        self.serial = serial\n"
   ]
  },
  {
   "cell_type": "markdown",
   "id": "183f4e67",
   "metadata": {},
   "source": [
    "    # ---------------------------------------------------------------------\n",
    "    # Factory helpers\n",
    "    # ---------------------------------------------------------------------"
   ]
  },
  {
   "cell_type": "markdown",
   "id": "6dd3ae00",
   "metadata": {},
   "source": [
    "Return a list of connected device/emulator serial numbers."
   ]
  },
  {
   "cell_type": "markdown",
   "id": "dcae5f95",
   "metadata": {},
   "source": [
    "Return a ``Device`` instance pointing at the first running emulator.\n",
    "\n",
    "        Raises:\n",
    "            ADBError: If no emulator device is detected.\n"
   ]
  },
  {
   "cell_type": "code",
   "execution_count": null,
   "id": "119fc811",
   "metadata": {},
   "outputs": [],
   "source": [
    "    @classmethod\n",
    "    def list_devices(cls) -> list[str]:\n",
    "        output = subprocess.check_output([\"adb\", \"devices\"], encoding=\"utf-8\")\n",
    "        lines = output.strip().splitlines()[1:]  # Skip the header\n",
    "        serials: list[str] = []\n",
    "        for line in lines:\n",
    "            if not line.strip():\n",
    "                continue\n",
    "            parts = line.split(\"\\t\")\n",
    "            if len(parts) >= 2 and parts[1] == \"device\":\n",
    "                serials.append(parts[0])\n",
    "        return serials\n",
    "\n",
    "    @classmethod\n",
    "    def from_emulator(cls) -> Device:\n",
    "        serials = cls.list_devices()\n",
    "        emulators = [s for s in serials if s.startswith(\"emulator-\")]\n",
    "        if not emulators:\n",
    "            raise ADBError(\"No Android emulator detected. Start an emulator in Android Studio and ensure 'adb devices' lists it.\")"
   ]
  },
  {
   "cell_type": "markdown",
   "id": "90c0b325",
   "metadata": {},
   "source": [
    "        # Prefer the first emulator found for now. Future improvements may\n",
    "        # allow selector logic."
   ]
  },
  {
   "cell_type": "code",
   "execution_count": null,
   "id": "03fc742c",
   "metadata": {},
   "outputs": [],
   "source": [
    "        return cls(emulators[0])\n"
   ]
  },
  {
   "cell_type": "markdown",
   "id": "197ed8ee",
   "metadata": {},
   "source": [
    "    # ---------------------------------------------------------------------\n",
    "    # Basic operations\n",
    "    # ---------------------------------------------------------------------"
   ]
  },
  {
   "cell_type": "markdown",
   "id": "799f1a9e",
   "metadata": {},
   "source": [
    "Execute an ADB shell command and return stdout as a string."
   ]
  },
  {
   "cell_type": "markdown",
   "id": "8004be3b",
   "metadata": {},
   "source": [
    "Install an APK on the device, replacing it if present."
   ]
  },
  {
   "cell_type": "markdown",
   "id": "52157a7f",
   "metadata": {},
   "source": [
    "Push a file or directory to the device."
   ]
  },
  {
   "cell_type": "markdown",
   "id": "2d37c029",
   "metadata": {},
   "source": [
    "Pull a file or directory from the device."
   ]
  },
  {
   "cell_type": "code",
   "execution_count": null,
   "id": "f9ffa181",
   "metadata": {},
   "outputs": [],
   "source": [
    "    def shell(self, command: str, *, timeout: int | None = None) -> str:\n",
    "        cmd = [\"adb\", \"-s\", self.serial, \"shell\", command]\n",
    "        return subprocess.check_output(cmd, encoding=\"utf-8\", timeout=timeout)\n",
    "\n",
    "    def install_apk(self, apk_path: str) -> None:\n",
    "        subprocess.check_call([\"adb\", \"-s\", self.serial, \"install\", \"-r\", apk_path])\n",
    "\n",
    "    def push(self, local: str, remote: str) -> None:\n",
    "        subprocess.check_call([\"adb\", \"-s\", self.serial, \"push\", local, remote])\n",
    "\n",
    "    def pull(self, remote: str, local: str) -> None:\n",
    "        subprocess.check_call([\"adb\", \"-s\", self.serial, \"pull\", remote, local])\n"
   ]
  },
  {
   "cell_type": "markdown",
   "id": "f83ab83d",
   "metadata": {},
   "source": [
    "    # ---------------------------------------------------------------------\n",
    "    # Convenience\n",
    "    # ---------------------------------------------------------------------"
   ]
  },
  {
   "cell_type": "code",
   "execution_count": null,
   "id": "2c83eb42",
   "metadata": {},
   "outputs": [],
   "source": [
    "    def __repr__(self) -> str:  # pragma: no cover – string representation only\n",
    "        return f\"<Device serial={self.serial!r}>\" "
   ]
  }
 ],
 "metadata": {
  "kernelspec": {
   "display_name": "Python 3",
   "language": "python",
   "name": "python3"
  },
  "language_info": {
   "codemirror_mode": {
    "name": "ipython",
    "version": 3
   },
   "file_extension": ".py",
   "mimetype": "text/x-python",
   "name": "python",
   "nbconvert_exporter": "python",
   "pygments_lexer": "ipython3",
   "version": "3.10.0"
  }
 },
 "nbformat": 4,
 "nbformat_minor": 5
}
